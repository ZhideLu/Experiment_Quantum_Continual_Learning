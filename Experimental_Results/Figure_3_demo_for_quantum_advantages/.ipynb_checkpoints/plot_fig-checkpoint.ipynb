{
 "cells": [
  {
   "cell_type": "markdown",
   "metadata": {},
   "source": [
    "# Figure 3 in the manuscript"
   ]
  },
  {
   "cell_type": "code",
   "execution_count": null,
   "metadata": {},
   "outputs": [],
   "source": [
    "import pandas as pd\n",
    "import numpy as np\n",
    "import sys\n",
    "from matplotlib.ticker import MaxNLocator\n",
    "import matplotlib.pyplot as plt\n",
    "import matplotlib as mpl\n",
    "import scipy\n",
    "# mpl.rcParams['pdf.fonttype'] = 42\n",
    "import os\n",
    "import h5py\n",
    "import seaborn\n",
    "# %matplotlib"
   ]
  },
  {
   "cell_type": "code",
   "execution_count": null,
   "metadata": {},
   "outputs": [],
   "source": [
    "file_path_now = os.getcwd()\n",
    "print(file_path_now)\n",
    "file_path = os.path.dirname(file_path_now)  \n",
    "print(file_path)\n",
    "file_path = os.path.dirname(file_path)  \n",
    "print(file_path)\n",
    "\n",
    "def df_to_dict(df):\n",
    "    res={}\n",
    "    keys=list(df.keys())\n",
    "    for k in keys:\n",
    "        try:\n",
    "            for column in df[k].columns:\n",
    "                if column.startswith('Unnamed'):\n",
    "                    pass\n",
    "                else:\n",
    "                    res[column]=df[k][column]\n",
    "        except:\n",
    "                if k.startswith('Unnamed'):\n",
    "                    pass\n",
    "                else:\n",
    "                    res[k]=df[k]\n",
    "    return res\n",
    "ENCODE_medical_wk_DATAPATH = file_path + \"/Experimental_Results/data/train_data/MedNIST_hand_breast_wk.mat\"\n",
    "FashionMNIST_09_DATAPATH = file_path + \"/Experimental_Results/data/train_data/FashionMNIST_0-9.mat\"\n",
    "\n",
    "def load_h5py_data(path):\n",
    "    h5_file = h5py.File(path, mode=\"r\")\n",
    "    data = {}\n",
    "    for dataset in h5_file.keys():\n",
    "        data[dataset] = h5_file[dataset][()]\n",
    "    return data\n",
    "data_FS=load_h5py_data(FashionMNIST_09_DATAPATH)\n",
    "data_MD= load_h5py_data(ENCODE_medical_wk_DATAPATH)"
   ]
  },
  {
   "cell_type": "markdown",
   "metadata": {},
   "source": [
    "## Experimental and numerical results for sequentially learning the engineered quantum task and the classical task"
   ]
  },
  {
   "cell_type": "code",
   "execution_count": null,
   "metadata": {},
   "outputs": [],
   "source": [
    "df_EWC = pd.read_excel(file_path+r'/Experimental_Results/data/exp_10q/10q_loss_accuracy_EWC.xlsx',sheet_name=['task1','task2'])\n",
    "df_no_EWC = pd.read_excel(file_path+r'/Experimental_Results/data/exp_10q/10q_loss_accuracy_without_EWC.xlsx',\n",
    "                          sheet_name=['task1','task2'])\n",
    "df_last_probs = pd.read_excel(file_path+r'/Experimental_Results/data/exp_10q/10q_last_step_probs_2_task.xlsx',\n",
    "                                sheet_name=['task1','task2'])\n",
    "df_relabel_results = pd.read_excel(file_path+r'/Experimental_Results/data/exp_10q/10q_relabel_result.xlsx')\n",
    "res_EWC=df_to_dict(df_EWC)\n",
    "res_no_EWC=df_to_dict(df_no_EWC)\n",
    "last_probs=df_to_dict(df_last_probs)\n",
    "relabel_results=df_to_dict(df_relabel_results)\n",
    "lines=[20,20]\n",
    "a4=np.array([180, 297]) / 25\n",
    "\n",
    "classical_continual_learning_lambda_40 = h5py.File('../../Numerical_Simulations/demo_for_FFNN_learning_engineered_quantum&classical_tasks/classical_continual_learning_lambda_40.mat','r') ;\n",
    "classical_continual_learning_for_all_lambda = h5py.File('../../Numerical_Simulations/demo_for_FFNN_learning_engineered_quantum&classical_tasks/classical_continual_learning_for_all_lambda.mat','r')"
   ]
  },
  {
   "cell_type": "code",
   "execution_count": null,
   "metadata": {},
   "outputs": [],
   "source": [
    "# res_EWC[f'step{1+1}']"
   ]
  },
  {
   "cell_type": "code",
   "execution_count": null,
   "metadata": {},
   "outputs": [],
   "source": []
  },
  {
   "cell_type": "markdown",
   "metadata": {},
   "source": [
    "## Figure 3(c)"
   ]
  },
  {
   "cell_type": "code",
   "execution_count": null,
   "metadata": {},
   "outputs": [],
   "source": [
    "plt.rcParams[\"font.family\"] = \"Arial\"\n",
    "plt.rcParams['figure.figsize'] = 4, 4\n",
    "plt.rcParams.update({'font.size': 14})\n",
    "\n",
    "colors = [ [c/255 for c in [42, 176, 128] ], \n",
    "         [c/255 for c in [58, 110, 178] ],\n",
    "        [c/255 for c in [202, 62, 114] ] ]\n",
    "\n",
    "ax11 = plt.figure()\n",
    "ax21 = plt.figure()\n",
    "ax = (ax11, ax21)\n",
    "fig, ax = plt.subplots(2, 1)\n",
    "\n",
    "\n",
    "# ax[0].yaxis.set_major_locator(MaxNLocator(5))\n",
    "# ax[0].xaxis.set_major_locator(MaxNLocator(5))\n",
    "\n",
    "ax[0].plot(res_EWC['step1'], res_EWC['accuracy_test1'], color = colors[1], linestyle = \"-\", markevery = 1,\n",
    "           marker = 's', markersize = 3.6, linewidth=1.3 )\n",
    "ax[0].plot(res_EWC['step1'], classical_continual_learning_lambda_40[\"task_1\"][:], color = colors[2], \n",
    "           linestyle = \"-\", markevery = 1, marker = 'o', markersize = 4, linewidth=1.3 )\n",
    "\n",
    "ax[0].grid(linestyle='--', linewidth=0.3)\n",
    "ax[0].set_ylabel('Accuracy for $\\mathcal{T}_1^{\\;\\prime}$', labelpad = 4)     \n",
    "\n",
    "\n",
    "ax[1].plot(res_EWC['step2'], res_EWC['accuracy_test2'], color = colors[1], linestyle = \"-\", markevery = 1,\n",
    "            marker = 's', markersize = 3.6, linewidth=1.3 )\n",
    "\n",
    "ax[1].plot(res_EWC['step2'], classical_continual_learning_lambda_40[\"task_2\"][:], color = colors[2], \n",
    "           linestyle = \"-\", markevery = 1, marker = 'o', markersize = 4, linewidth=1.3 )\n",
    "\n",
    "ax[1].grid(linestyle='--', linewidth=0.3)\n",
    "ax[1].set_ylabel('Accuracy for $\\mathcal{T}_2^{\\;\\prime}$', labelpad = 4)    \n",
    "\n",
    "#-----------------------------------------------------\n",
    "ax[0].set_xlim(-0.7, 38)\n",
    "ax[0].set_ylim(0.2, 1.03)\n",
    "ax[0].set_yticks(np.array([0.2, 0.4, 0.6, 0.8, 1]), [0.2, 0.4, 0.6, 0.8, 1], position = (0, 0.00))\n",
    "\n",
    "\n",
    "ax[1].set_xlim(-0.7, 38)\n",
    "ax[1].set_ylim(0.4, 1.03)\n",
    "ax[1].set_yticks(np.array([ 0.4, 0.6, 0.8, 1]), [0.4, 0.6, 0.8, 1], position = (0, 0.00))\n",
    "\n",
    "\n",
    "ax[1].legend(['Quantum \\n classifier', 'Classical \\n classifier'], loc=(0.02,  -0.03), frameon=False, labelspacing=0.5, \n",
    "             handlelength=1.2, handletextpad = 0.5, fontsize = 12)\n",
    "ax[1].set_xlabel('Epochs', labelpad = 4)\n",
    "\n",
    "ax[0].axvspan(-2,20,color = [c/255 for c in [169, 209, 142] ], alpha=0.3)\n",
    "ax[0].axvspan(20,38,color =  [c/255 for c in [157, 195, 230] ], alpha=0.2)\n",
    "ax[1].axvspan(-2,20,color = [c/255 for c in [169, 209, 142] ], alpha=0.3)\n",
    "ax[1].axvspan(20,38,color =  [c/255 for c in [157, 195, 230] ], alpha=0.2)\n",
    "\n",
    "plt.tight_layout()\n",
    "plt.show()"
   ]
  },
  {
   "cell_type": "code",
   "execution_count": null,
   "metadata": {},
   "outputs": [],
   "source": [
    "fig.savefig('advantage.pdf', format='pdf', bbox_inches='tight', facecolor='None')"
   ]
  },
  {
   "cell_type": "code",
   "execution_count": null,
   "metadata": {},
   "outputs": [],
   "source": []
  },
  {
   "cell_type": "markdown",
   "metadata": {},
   "source": [
    "## Fisher information"
   ]
  },
  {
   "cell_type": "code",
   "execution_count": null,
   "metadata": {},
   "outputs": [],
   "source": [
    "df_fisher_martix = pd.read_excel(file_path+r'/Experimental_Results/data/exp_10q/fisher_martix.xlsx',\n",
    "                                 sheet_name=['fisher_martix'])\n",
    "res_fisher_martix=df_to_dict(df_fisher_martix)\n",
    "fisher_q = res_fisher_martix[\"quantum_label\"]"
   ]
  },
  {
   "cell_type": "code",
   "execution_count": null,
   "metadata": {},
   "outputs": [],
   "source": [
    "index_q = np.argsort(fisher_q)   \n",
    "# fisher_q = np.array(fisher_q[index_q])"
   ]
  },
  {
   "cell_type": "code",
   "execution_count": null,
   "metadata": {
    "scrolled": false
   },
   "outputs": [],
   "source": [
    "# df_grad_q = pd.read_excel(file_path+r'/Experimental_Results/data/exp_10q/10q_params_gradients.xlsx',\n",
    "#                                sheet_name=['gradients  EWC'])\n",
    "# grad_history_q = np.array(df_grad_q['gradients  EWC'])[:,1:].astype('float')\n",
    "\n",
    "# average_grad = np.mean([ grad_history_q[i] for i in range(20,36)], axis=0)"
   ]
  },
  {
   "cell_type": "code",
   "execution_count": null,
   "metadata": {},
   "outputs": [],
   "source": []
  },
  {
   "cell_type": "markdown",
   "metadata": {},
   "source": [
    "## Parameter changes"
   ]
  },
  {
   "cell_type": "code",
   "execution_count": null,
   "metadata": {},
   "outputs": [],
   "source": [
    "df_params_EWC = pd.read_excel(file_path+r'/Experimental_Results/data/exp_10q/10q_params_gradients.xlsx',\n",
    "                              sheet_name=['params EWC'])\n",
    "res_params_EWC=np.array(df_params_EWC['params EWC'])[:,1:].astype('float')"
   ]
  },
  {
   "cell_type": "code",
   "execution_count": null,
   "metadata": {},
   "outputs": [],
   "source": []
  },
  {
   "cell_type": "markdown",
   "metadata": {},
   "source": [
    "## Figure 3(d) \n",
    "### Results for classical learning"
   ]
  },
  {
   "cell_type": "code",
   "execution_count": null,
   "metadata": {},
   "outputs": [],
   "source": [
    "plt.rcParams[\"font.family\"] = \"Arial\"\n",
    "plt.rcParams['figure.figsize'] = 4, 2.5\n",
    "plt.rcParams.update({'font.size': 14})\n",
    "\n",
    "fig, ax = plt.subplots(dpi=1000)\n",
    "\n",
    "lambda_list = classical_continual_learning_for_all_lambda[\"lambda\"][:]  ;\n",
    "task_1 = classical_continual_learning_for_all_lambda[\"task_1\"][:]      ;\n",
    "task_2 = classical_continual_learning_for_all_lambda[\"task_2\"][:]     ;\n",
    "average = (task_1 +task_2)/2  ;\n",
    "\n",
    "ax.set_ylabel('Accuracy', labelpad = 4)    \n",
    "ax.set_xlabel(r'Regularization strength of EWC', labelpad = 4)\n",
    "ax.set_xlim(-1, 101)\n",
    "ax.set_xticks(np.array([ 0, 25, 50, 75, 100]), [ 0, 25, 50, 75, 100], position = (0, 0.00))\n",
    "\n",
    "ax.set_ylim(0.4, 1.02)\n",
    "ax.text(45, 0.94, r'Quantum classifier', fontsize = 11)\n",
    "ax.text(45, 0.87, r'$(95.8\\%)$', fontsize = 11)\n",
    "\n",
    "ax.text(4, 0.50,  'Classical \\n classifier', fontsize = 11)\n",
    "ax.text(4, 0.43,  r'$(81.3\\%)$', fontsize = 11)\n",
    "\n",
    "ax.scatter(40, (res_EWC['accuracy_test1'][36] + res_EWC['accuracy_test2'][16])/2, \n",
    "           marker='*', s = [40], color = \"red\")\n",
    "ax.scatter(12, average[4], s = [26], marker='^', color = \"red\")\n",
    "\n",
    "\n",
    "ax.plot(lambda_list, task_1, color = [c/255 for c in [255, 195, 132] ], linestyle = \"-\", markevery = 1,\n",
    "           marker = 'h', markersize = 3, linewidth=1.3, label = \"$\\mathcal{T}_1^{\\;\\prime}$\" )\n",
    "\n",
    "ax.plot(lambda_list, task_2, color = \"grey\", linestyle = \"-\", markevery = 1,\n",
    "           marker = 'h', markersize = 3, linewidth=1.3, label = \"$\\mathcal{T}_2^{\\;\\prime}$\" )\n",
    "\n",
    "ax.plot(lambda_list, (task_1 +task_2)/2, color = colors[0], linestyle = \"-\", marker = '.', markersize = 3,\n",
    "        markevery = 1, linewidth=1.1,  label = \"Average\"  )\n",
    "\n",
    "ax.legend( loc=(0.62, 0.0), frameon=False, labelspacing=0.4, handlelength=1.1, fontsize = 10)\n",
    "\n",
    "plt.tight_layout()\n",
    "plt.show()"
   ]
  },
  {
   "cell_type": "code",
   "execution_count": null,
   "metadata": {},
   "outputs": [],
   "source": [
    "fig.savefig('classical_learning.pdf', format='pdf', bbox_inches='tight', facecolor='None')"
   ]
  },
  {
   "cell_type": "code",
   "execution_count": null,
   "metadata": {},
   "outputs": [],
   "source": [
    "# (task_1 +task_2)/2"
   ]
  },
  {
   "cell_type": "code",
   "execution_count": null,
   "metadata": {},
   "outputs": [],
   "source": [
    "# max((task_1 +task_2)/2)"
   ]
  },
  {
   "cell_type": "code",
   "execution_count": null,
   "metadata": {},
   "outputs": [],
   "source": []
  }
 ],
 "metadata": {
  "kernelspec": {
   "display_name": "qutip-env",
   "language": "python",
   "name": "qutip-env"
  },
  "language_info": {
   "codemirror_mode": {
    "name": "ipython",
    "version": 3
   },
   "file_extension": ".py",
   "mimetype": "text/x-python",
   "name": "python",
   "nbconvert_exporter": "python",
   "pygments_lexer": "ipython3",
   "version": "3.9.19"
  }
 },
 "nbformat": 4,
 "nbformat_minor": 2
}
